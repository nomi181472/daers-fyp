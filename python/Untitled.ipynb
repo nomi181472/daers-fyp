{
 "cells": [
  {
   "cell_type": "code",
   "execution_count": 2,
   "metadata": {},
   "outputs": [],
   "source": [
    "import asyncio\n",
    "from nats.aio.errors import ErrConnectionClosed, ErrTimeout, ErrNoServers\n",
    "from nats.aio.client import Client as NATS\n",
    "from stan.aio.client import Client as STAN"
   ]
  },
  {
   "cell_type": "code",
   "execution_count": 3,
   "metadata": {},
   "outputs": [
    {
     "ename": "RuntimeError",
     "evalue": "This event loop is already running",
     "output_type": "error",
     "traceback": [
      "\u001b[1;31m---------------------------------------------------------------------------\u001b[0m",
      "\u001b[1;31mRuntimeError\u001b[0m                              Traceback (most recent call last)",
      "\u001b[1;32m<ipython-input-3-7411dfedaafc>\u001b[0m in \u001b[0;36m<module>\u001b[1;34m\u001b[0m\n\u001b[0;32m     32\u001b[0m \u001b[1;32mif\u001b[0m \u001b[0m__name__\u001b[0m \u001b[1;33m==\u001b[0m \u001b[1;34m'__main__'\u001b[0m\u001b[1;33m:\u001b[0m\u001b[1;33m\u001b[0m\u001b[0m\n\u001b[0;32m     33\u001b[0m     \u001b[0mloop\u001b[0m \u001b[1;33m=\u001b[0m \u001b[0masyncio\u001b[0m\u001b[1;33m.\u001b[0m\u001b[0mget_event_loop\u001b[0m\u001b[1;33m(\u001b[0m\u001b[1;33m)\u001b[0m\u001b[1;33m\u001b[0m\u001b[0m\n\u001b[1;32m---> 34\u001b[1;33m     \u001b[0mloop\u001b[0m\u001b[1;33m.\u001b[0m\u001b[0mrun_until_complete\u001b[0m\u001b[1;33m(\u001b[0m\u001b[0mrun\u001b[0m\u001b[1;33m(\u001b[0m\u001b[0mloop\u001b[0m\u001b[1;33m)\u001b[0m\u001b[1;33m)\u001b[0m\u001b[1;33m\u001b[0m\u001b[0m\n\u001b[0m\u001b[0;32m     35\u001b[0m     \u001b[0mloop\u001b[0m\u001b[1;33m.\u001b[0m\u001b[0mclose\u001b[0m\u001b[1;33m(\u001b[0m\u001b[1;33m)\u001b[0m\u001b[1;33m\u001b[0m\u001b[0m\n",
      "\u001b[1;32m~\\.conda\\envs\\python-cvcourse\\lib\\asyncio\\base_events.py\u001b[0m in \u001b[0;36mrun_until_complete\u001b[1;34m(self, future)\u001b[0m\n\u001b[0;32m    453\u001b[0m         \u001b[0mfuture\u001b[0m\u001b[1;33m.\u001b[0m\u001b[0madd_done_callback\u001b[0m\u001b[1;33m(\u001b[0m\u001b[0m_run_until_complete_cb\u001b[0m\u001b[1;33m)\u001b[0m\u001b[1;33m\u001b[0m\u001b[0m\n\u001b[0;32m    454\u001b[0m         \u001b[1;32mtry\u001b[0m\u001b[1;33m:\u001b[0m\u001b[1;33m\u001b[0m\u001b[0m\n\u001b[1;32m--> 455\u001b[1;33m             \u001b[0mself\u001b[0m\u001b[1;33m.\u001b[0m\u001b[0mrun_forever\u001b[0m\u001b[1;33m(\u001b[0m\u001b[1;33m)\u001b[0m\u001b[1;33m\u001b[0m\u001b[0m\n\u001b[0m\u001b[0;32m    456\u001b[0m         \u001b[1;32mexcept\u001b[0m\u001b[1;33m:\u001b[0m\u001b[1;33m\u001b[0m\u001b[0m\n\u001b[0;32m    457\u001b[0m             \u001b[1;32mif\u001b[0m \u001b[0mnew_task\u001b[0m \u001b[1;32mand\u001b[0m \u001b[0mfuture\u001b[0m\u001b[1;33m.\u001b[0m\u001b[0mdone\u001b[0m\u001b[1;33m(\u001b[0m\u001b[1;33m)\u001b[0m \u001b[1;32mand\u001b[0m \u001b[1;32mnot\u001b[0m \u001b[0mfuture\u001b[0m\u001b[1;33m.\u001b[0m\u001b[0mcancelled\u001b[0m\u001b[1;33m(\u001b[0m\u001b[1;33m)\u001b[0m\u001b[1;33m:\u001b[0m\u001b[1;33m\u001b[0m\u001b[0m\n",
      "\u001b[1;32m~\\.conda\\envs\\python-cvcourse\\lib\\asyncio\\base_events.py\u001b[0m in \u001b[0;36mrun_forever\u001b[1;34m(self)\u001b[0m\n\u001b[0;32m    407\u001b[0m         \u001b[0mself\u001b[0m\u001b[1;33m.\u001b[0m\u001b[0m_check_closed\u001b[0m\u001b[1;33m(\u001b[0m\u001b[1;33m)\u001b[0m\u001b[1;33m\u001b[0m\u001b[0m\n\u001b[0;32m    408\u001b[0m         \u001b[1;32mif\u001b[0m \u001b[0mself\u001b[0m\u001b[1;33m.\u001b[0m\u001b[0mis_running\u001b[0m\u001b[1;33m(\u001b[0m\u001b[1;33m)\u001b[0m\u001b[1;33m:\u001b[0m\u001b[1;33m\u001b[0m\u001b[0m\n\u001b[1;32m--> 409\u001b[1;33m             \u001b[1;32mraise\u001b[0m \u001b[0mRuntimeError\u001b[0m\u001b[1;33m(\u001b[0m\u001b[1;34m'This event loop is already running'\u001b[0m\u001b[1;33m)\u001b[0m\u001b[1;33m\u001b[0m\u001b[0m\n\u001b[0m\u001b[0;32m    410\u001b[0m         \u001b[1;32mif\u001b[0m \u001b[0mevents\u001b[0m\u001b[1;33m.\u001b[0m\u001b[0m_get_running_loop\u001b[0m\u001b[1;33m(\u001b[0m\u001b[1;33m)\u001b[0m \u001b[1;32mis\u001b[0m \u001b[1;32mnot\u001b[0m \u001b[1;32mNone\u001b[0m\u001b[1;33m:\u001b[0m\u001b[1;33m\u001b[0m\u001b[0m\n\u001b[0;32m    411\u001b[0m             raise RuntimeError(\n",
      "\u001b[1;31mRuntimeError\u001b[0m: This event loop is already running"
     ]
    }
   ],
   "source": [
    "async def run(loop):\n",
    "    ns= NATS()\n",
    "    await ns.connect(\"localhost:4222\",loop=loop)\n",
    "    nc = STAN()\n",
    "\n",
    "    await nc.connect(\"daers\",\"abc\",ns)\n",
    "\n",
    "    async def message_handler(msg):\n",
    "        subject = msg.subject\n",
    "        reply = msg.reply\n",
    "        data = msg.data.decode()\n",
    "        print(\"Received a message on '{subject} {reply}': {data}\".format(\n",
    "            subject=subject, reply=reply, data=data))\n",
    "\n",
    "    # Simple publisher and async subscriber via coroutine.\n",
    "    #sid = await nc.subscribe(\"daers\", cb=message_handler)\n",
    "\n",
    "    # Stop receiving after 2 messages.\n",
    "    #await nc.auto_unsubscribe(sid, 2)\n",
    "    data= {age: 12,bmi: 2,weight:2,height:2,userId: \"23\"}\n",
    "    print(json.dumps(data))\n",
    "    await nc.publish(\"eschedule:created\", json.dumps(data))\n",
    "    \n",
    "\n",
    "        #await nc.publish(reply, b'I can help')\n",
    "\n",
    "    # Use queue named 'workers' for distributing requests\n",
    "    # among subscribers.\n",
    "    \n",
    "    # Terminate connection to NATS.\n",
    "\n",
    "if __name__ == '__main__':\n",
    "    loop = asyncio.get_event_loop()\n",
    "    loop.run_until_complete(run(loop))\n",
    "    loop.close()"
   ]
  },
  {
   "cell_type": "code",
   "execution_count": 32,
   "metadata": {},
   "outputs": [
    {
     "name": "stdout",
     "output_type": "stream",
     "text": [
      "Help on class Client in module stan.aio.client:\n",
      "\n",
      "class Client(builtins.object)\n",
      " |  Asyncio Client for NATS Streaming.\n",
      " |  \n",
      " |  Methods defined here:\n",
      " |  \n",
      " |  __init__(self)\n",
      " |      Initialize self.  See help(type(self)) for accurate signature.\n",
      " |  \n",
      " |  __repr__(self)\n",
      " |      Return repr(self).\n",
      " |  \n",
      " |  ack(self, msg)\n",
      " |      Used to manually acks a message.\n",
      " |      \n",
      " |      :param msg: Message which is pending to be acked by client.\n",
      " |  \n",
      " |  close(self)\n",
      " |      Close terminates a session with NATS Streaming.\n",
      " |  \n",
      " |  connect(self, cluster_id, client_id, nats=None, connect_timeout=2, max_pub_acks_inflight=16384, ping_interval=5, ping_max_out=3, conn_lost_cb=None, loop=None)\n",
      " |      Starts a session with a NATS Streaming cluster.\n",
      " |      \n",
      " |      :param cluster: Name of the cluster to which we will connect.\n",
      " |      :param nats: NATS connection to be borrowed for NATS Streaming.\n",
      " |  \n",
      " |  publish(self, subject, payload, ack_handler=None, ack_wait=30)\n",
      " |      Publishes a payload onto a subject.  By default, it will block\n",
      " |      until the message which has been published has been acked back.\n",
      " |      An optional async handler can be publi\n",
      " |      \n",
      " |      :param subject: Subject of the message.\n",
      " |      :param payload: Payload of the message which wil be published.\n",
      " |      :param ack_handler: Optional handler for async publishing.\n",
      " |      :param ack_wait: How long in seconds to wait for an ack to be received.\n",
      " |  \n",
      " |  subscribe(self, subject, cb=None, error_cb=None, start_at=None, deliver_all_available=False, sequence=None, time=None, manual_acks=False, queue=None, ack_wait=30, max_inflight=1024, durable_name=None, pending_limits=8192)\n",
      " |      :param subject: Subject for the NATS Streaming subscription.\n",
      " |      \n",
      " |      :param cb: Callback which will be dispatched the\n",
      " |      \n",
      " |      :param error_cb: Async callback called on error, with the exception as\n",
      " |      the sole argument.\n",
      " |      \n",
      " |      :param start_at: One of the following options:\n",
      " |         - 'new_only' (default)\n",
      " |         - 'first'\n",
      " |         - 'sequence'\n",
      " |         - 'last_received'\n",
      " |         - 'time'\n",
      " |      \n",
      " |      :param deliver_all_available: Signals to receive all messages.\n",
      " |      \n",
      " |      :param sequence: Start sequence position from which we will be\n",
      " |      receiving the messages.\n",
      " |      \n",
      " |      :param time: Unix timestamp after which the messages will be delivered.\n",
      " |      \n",
      " |      :param manual_acks: Disables auto ack functionality in the subscription\n",
      " |      callback so that it is implemented by the user instead.\n",
      " |      \n",
      " |      :param ack_wait: How long to wait for an ack before being redelivered\n",
      " |      previous messages.\n",
      " |      \n",
      " |      :param durable_name: Name of the durable subscription.\n",
      " |      \n",
      " |      :param: pending_limits: Max number of messages to await in subscription\n",
      " |      before it becomes a slow consumer.\n",
      " |  \n",
      " |  ----------------------------------------------------------------------\n",
      " |  Data descriptors defined here:\n",
      " |  \n",
      " |  __dict__\n",
      " |      dictionary for instance variables (if defined)\n",
      " |  \n",
      " |  __weakref__\n",
      " |      list of weak references to the object (if defined)\n",
      "\n"
     ]
    }
   ],
   "source": [
    "help(STAN)"
   ]
  },
  {
   "cell_type": "code",
   "execution_count": 36,
   "metadata": {},
   "outputs": [
    {
     "ename": "RuntimeError",
     "evalue": "This event loop is already running",
     "output_type": "error",
     "traceback": [
      "\u001b[1;31m---------------------------------------------------------------------------\u001b[0m",
      "\u001b[1;31mRuntimeError\u001b[0m                              Traceback (most recent call last)",
      "\u001b[1;32m<ipython-input-36-2e9a1fab3f05>\u001b[0m in \u001b[0;36m<module>\u001b[1;34m\u001b[0m\n\u001b[0;32m     20\u001b[0m \u001b[1;32mif\u001b[0m \u001b[0m__name__\u001b[0m \u001b[1;33m==\u001b[0m \u001b[1;34m'__main__'\u001b[0m\u001b[1;33m:\u001b[0m\u001b[1;33m\u001b[0m\u001b[0m\n\u001b[0;32m     21\u001b[0m     \u001b[0mloop\u001b[0m \u001b[1;33m=\u001b[0m \u001b[0masyncio\u001b[0m\u001b[1;33m.\u001b[0m\u001b[0mget_event_loop\u001b[0m\u001b[1;33m(\u001b[0m\u001b[1;33m)\u001b[0m\u001b[1;33m\u001b[0m\u001b[0m\n\u001b[1;32m---> 22\u001b[1;33m     \u001b[0mloop\u001b[0m\u001b[1;33m.\u001b[0m\u001b[0mrun_until_complete\u001b[0m\u001b[1;33m(\u001b[0m\u001b[0mrun\u001b[0m\u001b[1;33m(\u001b[0m\u001b[0mloop\u001b[0m\u001b[1;33m)\u001b[0m\u001b[1;33m)\u001b[0m\u001b[1;33m\u001b[0m\u001b[0m\n\u001b[0m\u001b[0;32m     23\u001b[0m     \u001b[0mloop\u001b[0m\u001b[1;33m.\u001b[0m\u001b[0mrun_forever\u001b[0m\u001b[1;33m(\u001b[0m\u001b[1;33m)\u001b[0m\u001b[1;33m\u001b[0m\u001b[0m\n",
      "\u001b[1;32m~\\.conda\\envs\\python-cvcourse\\lib\\asyncio\\base_events.py\u001b[0m in \u001b[0;36mrun_until_complete\u001b[1;34m(self, future)\u001b[0m\n\u001b[0;32m    453\u001b[0m         \u001b[0mfuture\u001b[0m\u001b[1;33m.\u001b[0m\u001b[0madd_done_callback\u001b[0m\u001b[1;33m(\u001b[0m\u001b[0m_run_until_complete_cb\u001b[0m\u001b[1;33m)\u001b[0m\u001b[1;33m\u001b[0m\u001b[0m\n\u001b[0;32m    454\u001b[0m         \u001b[1;32mtry\u001b[0m\u001b[1;33m:\u001b[0m\u001b[1;33m\u001b[0m\u001b[0m\n\u001b[1;32m--> 455\u001b[1;33m             \u001b[0mself\u001b[0m\u001b[1;33m.\u001b[0m\u001b[0mrun_forever\u001b[0m\u001b[1;33m(\u001b[0m\u001b[1;33m)\u001b[0m\u001b[1;33m\u001b[0m\u001b[0m\n\u001b[0m\u001b[0;32m    456\u001b[0m         \u001b[1;32mexcept\u001b[0m\u001b[1;33m:\u001b[0m\u001b[1;33m\u001b[0m\u001b[0m\n\u001b[0;32m    457\u001b[0m             \u001b[1;32mif\u001b[0m \u001b[0mnew_task\u001b[0m \u001b[1;32mand\u001b[0m \u001b[0mfuture\u001b[0m\u001b[1;33m.\u001b[0m\u001b[0mdone\u001b[0m\u001b[1;33m(\u001b[0m\u001b[1;33m)\u001b[0m \u001b[1;32mand\u001b[0m \u001b[1;32mnot\u001b[0m \u001b[0mfuture\u001b[0m\u001b[1;33m.\u001b[0m\u001b[0mcancelled\u001b[0m\u001b[1;33m(\u001b[0m\u001b[1;33m)\u001b[0m\u001b[1;33m:\u001b[0m\u001b[1;33m\u001b[0m\u001b[0m\n",
      "\u001b[1;32m~\\.conda\\envs\\python-cvcourse\\lib\\asyncio\\base_events.py\u001b[0m in \u001b[0;36mrun_forever\u001b[1;34m(self)\u001b[0m\n\u001b[0;32m    407\u001b[0m         \u001b[0mself\u001b[0m\u001b[1;33m.\u001b[0m\u001b[0m_check_closed\u001b[0m\u001b[1;33m(\u001b[0m\u001b[1;33m)\u001b[0m\u001b[1;33m\u001b[0m\u001b[0m\n\u001b[0;32m    408\u001b[0m         \u001b[1;32mif\u001b[0m \u001b[0mself\u001b[0m\u001b[1;33m.\u001b[0m\u001b[0mis_running\u001b[0m\u001b[1;33m(\u001b[0m\u001b[1;33m)\u001b[0m\u001b[1;33m:\u001b[0m\u001b[1;33m\u001b[0m\u001b[0m\n\u001b[1;32m--> 409\u001b[1;33m             \u001b[1;32mraise\u001b[0m \u001b[0mRuntimeError\u001b[0m\u001b[1;33m(\u001b[0m\u001b[1;34m'This event loop is already running'\u001b[0m\u001b[1;33m)\u001b[0m\u001b[1;33m\u001b[0m\u001b[0m\n\u001b[0m\u001b[0;32m    410\u001b[0m         \u001b[1;32mif\u001b[0m \u001b[0mevents\u001b[0m\u001b[1;33m.\u001b[0m\u001b[0m_get_running_loop\u001b[0m\u001b[1;33m(\u001b[0m\u001b[1;33m)\u001b[0m \u001b[1;32mis\u001b[0m \u001b[1;32mnot\u001b[0m \u001b[1;32mNone\u001b[0m\u001b[1;33m:\u001b[0m\u001b[1;33m\u001b[0m\u001b[0m\n\u001b[0;32m    411\u001b[0m             raise RuntimeError(\n",
      "\u001b[1;31mRuntimeError\u001b[0m: This event loop is already running"
     ]
    }
   ],
   "source": [
    "import asyncio\n",
    "import signal\n",
    "import sys\n",
    "from nats.aio.client import Client as NATS\n",
    "from stan.aio.client import Client as STAN\n",
    "async def run(loop):\n",
    "    # Connect to NATS\n",
    "    nc = NATS()\n",
    "    await nc.connect(io_loop=loop)\n",
    "    # Start session with NATS Streaming cluster.\n",
    "    sc = STAN()\n",
    "    await sc.connect(\"daers\", \"listener-3F45\", nats=nc)\n",
    "    # Callback called on each message received\n",
    "    async def cb(msg):\n",
    "        print(\"Received (#{}): {}\".format(msg.seq, msg.data))\n",
    "        print(\"parsed and saved to db !\")\n",
    "    # Subscribe to get messages since last acknowledged\n",
    "    subject = \"devices.3F45.events\"\n",
    "    await sc.subscribe(subject, durable_name=\"3F45\", cb=cb)\n",
    "if __name__ == '__main__':\n",
    "    loop = asyncio.get_event_loop()\n",
    "    loop.run_until_complete(run(loop))\n",
    "    loop.run_forever()"
   ]
  },
  {
   "cell_type": "code",
   "execution_count": 6,
   "metadata": {},
   "outputs": [],
   "source": [
    "\n",
    "loop = asyncio.get_event_loop()\n",
    "#//loop.run_until_complete(run(loop))\n",
    "#loop.close()\n",
    "\n"
   ]
  },
  {
   "cell_type": "code",
   "execution_count": 13,
   "metadata": {},
   "outputs": [
    {
     "name": "stderr",
     "output_type": "stream",
     "text": [
      "C:\\Users\\noman\\.conda\\envs\\python-cvcourse\\lib\\site-packages\\ipykernel_launcher.py:1: RuntimeWarning: coroutine 'Client.connect' was never awaited\n",
      "  \"\"\"Entry point for launching an IPython kernel.\n"
     ]
    }
   ],
   "source": [
    "a=nc.connect(\"localhost:4222\",loop=loop)"
   ]
  },
  {
   "cell_type": "code",
   "execution_count": 19,
   "metadata": {},
   "outputs": [
    {
     "ename": "TypeError",
     "evalue": "unsupported operand type(s) for -: 'Client' and '_Helper'",
     "output_type": "error",
     "traceback": [
      "\u001b[1;31m---------------------------------------------------------------------------\u001b[0m",
      "\u001b[1;31mTypeError\u001b[0m                                 Traceback (most recent call last)",
      "\u001b[1;32m<ipython-input-19-4755651cfa53>\u001b[0m in \u001b[0;36m<module>\u001b[1;34m\u001b[0m\n\u001b[1;32m----> 1\u001b[1;33m \u001b[0mnc\u001b[0m \u001b[1;33m-\u001b[0m\u001b[0mhelp\u001b[0m\u001b[1;33m\u001b[0m\u001b[0m\n\u001b[0m",
      "\u001b[1;31mTypeError\u001b[0m: unsupported operand type(s) for -: 'Client' and '_Helper'"
     ]
    }
   ],
   "source": [
    " nc -help"
   ]
  },
  {
   "cell_type": "code",
   "execution_count": 23,
   "metadata": {},
   "outputs": [
    {
     "name": "stdout",
     "output_type": "stream",
     "text": [
      "Help on method publish in module nats.aio.client:\n",
      "\n",
      "publish(subject, payload) method of nats.aio.client.Client instance\n",
      "    Sends a PUB command to the server on the specified subject.\n",
      "    \n",
      "      ->> PUB hello 5\n",
      "      ->> MSG_PAYLOAD: world\n",
      "      <<- MSG hello 2 5\n",
      "\n"
     ]
    }
   ],
   "source": [
    "help(nc.publish)"
   ]
  },
  {
   "cell_type": "code",
   "execution_count": 24,
   "metadata": {},
   "outputs": [
    {
     "data": {
      "text/plain": [
       "['CLOSED',\n",
       " 'CONNECTED',\n",
       " 'CONNECTING',\n",
       " 'DISCONNECTED',\n",
       " 'DRAINING_PUBS',\n",
       " 'DRAINING_SUBS',\n",
       " 'RECONNECTING',\n",
       " '__class__',\n",
       " '__delattr__',\n",
       " '__dict__',\n",
       " '__dir__',\n",
       " '__doc__',\n",
       " '__enter__',\n",
       " '__eq__',\n",
       " '__exit__',\n",
       " '__format__',\n",
       " '__ge__',\n",
       " '__getattribute__',\n",
       " '__gt__',\n",
       " '__hash__',\n",
       " '__init__',\n",
       " '__init_subclass__',\n",
       " '__le__',\n",
       " '__lt__',\n",
       " '__module__',\n",
       " '__ne__',\n",
       " '__new__',\n",
       " '__reduce__',\n",
       " '__reduce_ex__',\n",
       " '__repr__',\n",
       " '__setattr__',\n",
       " '__sizeof__',\n",
       " '__str__',\n",
       " '__subclasshook__',\n",
       " '__weakref__',\n",
       " '_attempt_reconnect',\n",
       " '_bare_io_reader',\n",
       " '_bare_io_writer',\n",
       " '_build_message',\n",
       " '_client_id',\n",
       " '_close',\n",
       " '_closed_cb',\n",
       " '_connect_command',\n",
       " '_current_server',\n",
       " '_disconnected_cb',\n",
       " '_discovered_server_cb',\n",
       " '_drain_sub',\n",
       " '_err',\n",
       " '_error_cb',\n",
       " '_flush_pending',\n",
       " '_flush_queue',\n",
       " '_flusher',\n",
       " '_flusher_task',\n",
       " '_host_is_ip',\n",
       " '_io_reader',\n",
       " '_io_writer',\n",
       " '_loop',\n",
       " '_max_payload',\n",
       " '_nkeys_seed',\n",
       " '_nuid',\n",
       " '_pending',\n",
       " '_pending_data_size',\n",
       " '_ping_interval',\n",
       " '_ping_interval_task',\n",
       " '_pings_outstanding',\n",
       " '_pongs',\n",
       " '_pongs_received',\n",
       " '_process_connect_init',\n",
       " '_process_disconnect',\n",
       " '_process_err',\n",
       " '_process_info',\n",
       " '_process_msg',\n",
       " '_process_op_err',\n",
       " '_process_ping',\n",
       " '_process_pong',\n",
       " '_ps',\n",
       " '_public_nkey',\n",
       " '_publish',\n",
       " '_read_loop',\n",
       " '_reading_task',\n",
       " '_reconnected_cb',\n",
       " '_reconnection_task',\n",
       " '_reconnection_task_future',\n",
       " '_remove_sub',\n",
       " '_resp_map',\n",
       " '_resp_sub',\n",
       " '_resp_sub_prefix',\n",
       " '_select_next_server',\n",
       " '_send_command',\n",
       " '_send_ping',\n",
       " '_server_info',\n",
       " '_server_pool',\n",
       " '_setup_nkeys_connect',\n",
       " '_setup_nkeys_jwt_connect',\n",
       " '_setup_nkeys_seed_connect',\n",
       " '_setup_server_pool',\n",
       " '_signature_cb',\n",
       " '_ssid',\n",
       " '_status',\n",
       " '_subs',\n",
       " '_subscribe',\n",
       " '_unsubscribe',\n",
       " '_user_credentials',\n",
       " '_user_jwt_cb',\n",
       " 'auto_unsubscribe',\n",
       " 'client_id',\n",
       " 'close',\n",
       " 'connect',\n",
       " 'connected_url',\n",
       " 'discovered_servers',\n",
       " 'drain',\n",
       " 'flush',\n",
       " 'is_closed',\n",
       " 'is_connected',\n",
       " 'is_connecting',\n",
       " 'is_draining',\n",
       " 'is_draining_pubs',\n",
       " 'is_reconnecting',\n",
       " 'last_error',\n",
       " 'max_payload',\n",
       " 'msg_class',\n",
       " 'options',\n",
       " 'pending_data_size',\n",
       " 'publish',\n",
       " 'publish_request',\n",
       " 'request',\n",
       " 'servers',\n",
       " 'stats',\n",
       " 'subscribe',\n",
       " 'subscribe_async',\n",
       " 'timed_request',\n",
       " 'unsubscribe']"
      ]
     },
     "execution_count": 24,
     "metadata": {},
     "output_type": "execute_result"
    }
   ],
   "source": [
    "dir(nc)"
   ]
  },
  {
   "cell_type": "code",
   "execution_count": 4,
   "metadata": {},
   "outputs": [],
   "source": [
    "import json"
   ]
  },
  {
   "cell_type": "code",
   "execution_count": 7,
   "metadata": {},
   "outputs": [],
   "source": [
    "data= {\"age\": 12,\"bmi\": 2,\"weight\":2,\"height\":2,\"userId\": \"23\"}"
   ]
  },
  {
   "cell_type": "code",
   "execution_count": 18,
   "metadata": {},
   "outputs": [
    {
     "data": {
      "text/plain": [
       "bytes"
      ]
     },
     "execution_count": 18,
     "metadata": {},
     "output_type": "execute_result"
    }
   ],
   "source": [
    "type()\n"
   ]
  },
  {
   "cell_type": "code",
   "execution_count": 14,
   "metadata": {},
   "outputs": [
    {
     "data": {
      "text/plain": [
       "'{\"age\": 12, \"bmi\": 2, \"weight\": 2, \"height\": 2, \"userId\": \"23\"}'"
      ]
     },
     "execution_count": 14,
     "metadata": {},
     "output_type": "execute_result"
    }
   ],
   "source": [
    "\n"
   ]
  },
  {
   "cell_type": "code",
   "execution_count": 23,
   "metadata": {},
   "outputs": [
    {
     "name": "stdin",
     "output_type": "stream",
     "text": [
      " 0\n"
     ]
    },
    {
     "name": "stdout",
     "output_type": "stream",
     "text": [
      "{\"age\": 1, \"bmi\": 2, \"weight\": 2, \"height\": 2, \"userId\": \"23\"}\n"
     ]
    },
    {
     "name": "stdin",
     "output_type": "stream",
     "text": [
      " 0\n"
     ]
    },
    {
     "name": "stdout",
     "output_type": "stream",
     "text": [
      "{\"age\": 2, \"bmi\": 2, \"weight\": 2, \"height\": 2, \"userId\": \"23\"}\n"
     ]
    },
    {
     "name": "stdin",
     "output_type": "stream",
     "text": [
      " 1\n",
      " 1\n"
     ]
    },
    {
     "ename": "RuntimeError",
     "evalue": "Cannot close a running event loop",
     "output_type": "error",
     "traceback": [
      "\u001b[1;31m---------------------------------------------------------------------------\u001b[0m",
      "\u001b[1;31mRuntimeError\u001b[0m                              Traceback (most recent call last)",
      "\u001b[1;32m<ipython-input-23-da94200d0044>\u001b[0m in \u001b[0;36m<module>\u001b[1;34m\u001b[0m\n\u001b[0;32m     53\u001b[0m     \u001b[1;31m#loop.run_until_complete()\u001b[0m\u001b[1;33m\u001b[0m\u001b[1;33m\u001b[0m\u001b[0m\n\u001b[0;32m     54\u001b[0m     \u001b[0myes\u001b[0m\u001b[1;33m=\u001b[0m\u001b[0mint\u001b[0m\u001b[1;33m(\u001b[0m\u001b[0minput\u001b[0m\u001b[1;33m(\u001b[0m\u001b[1;33m)\u001b[0m\u001b[1;33m)\u001b[0m\u001b[1;33m\u001b[0m\u001b[0m\n\u001b[1;32m---> 55\u001b[1;33m     \u001b[0mloop\u001b[0m\u001b[1;33m.\u001b[0m\u001b[0mclose\u001b[0m\u001b[1;33m(\u001b[0m\u001b[1;33m)\u001b[0m\u001b[1;33m\u001b[0m\u001b[0m\n\u001b[0m",
      "\u001b[1;32m~\\.conda\\envs\\python-cvcourse\\lib\\asyncio\\selector_events.py\u001b[0m in \u001b[0;36mclose\u001b[1;34m(self)\u001b[0m\n\u001b[0;32m    105\u001b[0m     \u001b[1;32mdef\u001b[0m \u001b[0mclose\u001b[0m\u001b[1;33m(\u001b[0m\u001b[0mself\u001b[0m\u001b[1;33m)\u001b[0m\u001b[1;33m:\u001b[0m\u001b[1;33m\u001b[0m\u001b[0m\n\u001b[0;32m    106\u001b[0m         \u001b[1;32mif\u001b[0m \u001b[0mself\u001b[0m\u001b[1;33m.\u001b[0m\u001b[0mis_running\u001b[0m\u001b[1;33m(\u001b[0m\u001b[1;33m)\u001b[0m\u001b[1;33m:\u001b[0m\u001b[1;33m\u001b[0m\u001b[0m\n\u001b[1;32m--> 107\u001b[1;33m             \u001b[1;32mraise\u001b[0m \u001b[0mRuntimeError\u001b[0m\u001b[1;33m(\u001b[0m\u001b[1;34m\"Cannot close a running event loop\"\u001b[0m\u001b[1;33m)\u001b[0m\u001b[1;33m\u001b[0m\u001b[0m\n\u001b[0m\u001b[0;32m    108\u001b[0m         \u001b[1;32mif\u001b[0m \u001b[0mself\u001b[0m\u001b[1;33m.\u001b[0m\u001b[0mis_closed\u001b[0m\u001b[1;33m(\u001b[0m\u001b[1;33m)\u001b[0m\u001b[1;33m:\u001b[0m\u001b[1;33m\u001b[0m\u001b[0m\n\u001b[0;32m    109\u001b[0m             \u001b[1;32mreturn\u001b[0m\u001b[1;33m\u001b[0m\u001b[0m\n",
      "\u001b[1;31mRuntimeError\u001b[0m: Cannot close a running event loop"
     ]
    }
   ],
   "source": [
    "import asyncio\n",
    "from nats.aio.errors import ErrConnectionClosed, ErrTimeout, ErrNoServers\n",
    "from nats.aio.client import Client as NATS\n",
    "from stan.aio.client import Client as STAN\n",
    "import json\n",
    "import nest_asyncio\n",
    "i=0\n",
    "async def run(loop,i):\n",
    "    ns = NATS()\n",
    "    await ns.connect(\"localhost:4222\", loop=loop)\n",
    "    nc = STAN()\n",
    "\n",
    "    await nc.connect(\"daers\", \"99ca\", ns)\n",
    "\n",
    "    async def message_handler(msg):\n",
    "        subject = msg.subject\n",
    "        reply = msg.reply\n",
    "        data = msg.data.decode()\n",
    "        print(\"Received a message on '{subject} {reply}': {data}\".format(\n",
    "            subject=subject, reply=reply, data=data))\n",
    "\n",
    "    # Simple publisher and async subscriber via coroutine.\n",
    "    # sid = await nc.subscribe(\"daers\", cb=message_handler)\n",
    "\n",
    "    # Stop receiving after 2 messages.\n",
    "    # await nc.auto_unsubscribe(sid, 2)\n",
    "    \n",
    "    i=i+1\n",
    "    j=0;\n",
    "    while(1):\n",
    "        yes=int(input())\n",
    "        \n",
    "        if(yes):\n",
    "            break\n",
    "        else:\n",
    "            j=j+1\n",
    "            data = {\"age\": j, \"bmi\": 2, \"weight\": 2, \"height\": 2, \"userId\": \"23\"}\n",
    "            print(json.dumps(data))\n",
    "            await nc.publish(\"eschedule:created\", json.dumps(data).encode())\n",
    "\n",
    "    # await nc.publish(reply, b'I can help')\n",
    "\n",
    "    # Use queue named 'workers' for distributing requests\n",
    "    # among subscribers.\n",
    "\n",
    "    # Terminate connection to NATS.\n",
    "\n",
    "if __name__ == '__main__':\n",
    "    loop = asyncio.get_event_loop()\n",
    "    nest_asyncio.apply()\n",
    "    fut = loop.create_task(run(loop,i))\n",
    "    loop.run_until_complete(fut)\n",
    "    #loop.run_until_complete()\n",
    "    loop.close()    \n"
   ]
  },
  {
   "cell_type": "code",
   "execution_count": 5,
   "metadata": {},
   "outputs": [
    {
     "name": "stdout",
     "output_type": "stream",
     "text": [
      "Collecting nest_asyncio\n",
      "  Downloading nest_asyncio-1.5.1-py3-none-any.whl (5.0 kB)\n",
      "Installing collected packages: nest-asyncio\n",
      "Successfully installed nest-asyncio-1.5.1\n"
     ]
    }
   ],
   "source": [
    "!pip install nest_asyncio\n",
    "\n"
   ]
  },
  {
   "cell_type": "code",
   "execution_count": null,
   "metadata": {},
   "outputs": [],
   "source": []
  }
 ],
 "metadata": {
  "kernelspec": {
   "display_name": "Python 3",
   "language": "python",
   "name": "python3"
  },
  "language_info": {
   "codemirror_mode": {
    "name": "ipython",
    "version": 3
   },
   "file_extension": ".py",
   "mimetype": "text/x-python",
   "name": "python",
   "nbconvert_exporter": "python",
   "pygments_lexer": "ipython3",
   "version": "3.6.6"
  }
 },
 "nbformat": 4,
 "nbformat_minor": 2
}
